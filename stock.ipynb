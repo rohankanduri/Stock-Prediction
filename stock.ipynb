{
 "cells": [
  {
   "cell_type": "code",
   "execution_count": 1,
   "id": "9101fcfb",
   "metadata": {
    "execution": {
     "iopub.execute_input": "2023-08-24T14:44:58.170169Z",
     "iopub.status.busy": "2023-08-24T14:44:58.169793Z",
     "iopub.status.idle": "2023-08-24T14:45:10.699892Z",
     "shell.execute_reply": "2023-08-24T14:45:10.698425Z"
    },
    "papermill": {
     "duration": 12.540777,
     "end_time": "2023-08-24T14:45:10.702264",
     "exception": false,
     "start_time": "2023-08-24T14:44:58.161487",
     "status": "completed"
    },
    "tags": []
   },
   "outputs": [
    {
     "name": "stdout",
     "output_type": "stream",
     "text": [
      "Collecting yfinance\r\n",
      "  Downloading yfinance-0.2.28-py2.py3-none-any.whl (65 kB)\r\n",
      "\u001b[2K     \u001b[90m━━━━━━━━━━━━━━━━━━━━━━━━━━━━━━━━━━━━━━━━\u001b[0m \u001b[32m65.3/65.3 kB\u001b[0m \u001b[31m2.6 MB/s\u001b[0m eta \u001b[36m0:00:00\u001b[0m\r\n",
      "\u001b[?25hRequirement already satisfied: pandas>=1.3.0 in /opt/conda/lib/python3.10/site-packages (from yfinance) (1.5.3)\r\n",
      "Requirement already satisfied: numpy>=1.16.5 in /opt/conda/lib/python3.10/site-packages (from yfinance) (1.23.5)\r\n",
      "Requirement already satisfied: requests>=2.31 in /opt/conda/lib/python3.10/site-packages (from yfinance) (2.31.0)\r\n",
      "Collecting multitasking>=0.0.7 (from yfinance)\r\n",
      "  Downloading multitasking-0.0.11-py3-none-any.whl (8.5 kB)\r\n",
      "Requirement already satisfied: lxml>=4.9.1 in /opt/conda/lib/python3.10/site-packages (from yfinance) (4.9.3)\r\n",
      "Requirement already satisfied: appdirs>=1.4.4 in /opt/conda/lib/python3.10/site-packages (from yfinance) (1.4.4)\r\n",
      "Requirement already satisfied: pytz>=2022.5 in /opt/conda/lib/python3.10/site-packages (from yfinance) (2023.3)\r\n",
      "Requirement already satisfied: frozendict>=2.3.4 in /opt/conda/lib/python3.10/site-packages (from yfinance) (2.3.8)\r\n",
      "Requirement already satisfied: beautifulsoup4>=4.11.1 in /opt/conda/lib/python3.10/site-packages (from yfinance) (4.12.2)\r\n",
      "Requirement already satisfied: html5lib>=1.1 in /opt/conda/lib/python3.10/site-packages (from yfinance) (1.1)\r\n",
      "Requirement already satisfied: soupsieve>1.2 in /opt/conda/lib/python3.10/site-packages (from beautifulsoup4>=4.11.1->yfinance) (2.3.2.post1)\r\n",
      "Requirement already satisfied: six>=1.9 in /opt/conda/lib/python3.10/site-packages (from html5lib>=1.1->yfinance) (1.16.0)\r\n",
      "Requirement already satisfied: webencodings in /opt/conda/lib/python3.10/site-packages (from html5lib>=1.1->yfinance) (0.5.1)\r\n",
      "Requirement already satisfied: python-dateutil>=2.8.1 in /opt/conda/lib/python3.10/site-packages (from pandas>=1.3.0->yfinance) (2.8.2)\r\n",
      "Requirement already satisfied: charset-normalizer<4,>=2 in /opt/conda/lib/python3.10/site-packages (from requests>=2.31->yfinance) (3.1.0)\r\n",
      "Requirement already satisfied: idna<4,>=2.5 in /opt/conda/lib/python3.10/site-packages (from requests>=2.31->yfinance) (3.4)\r\n",
      "Requirement already satisfied: urllib3<3,>=1.21.1 in /opt/conda/lib/python3.10/site-packages (from requests>=2.31->yfinance) (1.26.15)\r\n",
      "Requirement already satisfied: certifi>=2017.4.17 in /opt/conda/lib/python3.10/site-packages (from requests>=2.31->yfinance) (2023.5.7)\r\n",
      "Installing collected packages: multitasking, yfinance\r\n",
      "Successfully installed multitasking-0.0.11 yfinance-0.2.28\r\n",
      "Note: you may need to restart the kernel to use updated packages.\n"
     ]
    }
   ],
   "source": [
    "pip install yfinance"
   ]
  },
  {
   "cell_type": "code",
   "execution_count": 2,
   "id": "3e766600",
   "metadata": {
    "execution": {
     "iopub.execute_input": "2023-08-24T14:45:10.718281Z",
     "iopub.status.busy": "2023-08-24T14:45:10.717971Z",
     "iopub.status.idle": "2023-08-24T14:45:22.860130Z",
     "shell.execute_reply": "2023-08-24T14:45:22.858778Z"
    },
    "papermill": {
     "duration": 12.152507,
     "end_time": "2023-08-24T14:45:22.862396",
     "exception": false,
     "start_time": "2023-08-24T14:45:10.709889",
     "status": "completed"
    },
    "tags": []
   },
   "outputs": [
    {
     "name": "stdout",
     "output_type": "stream",
     "text": [
      "Collecting datetime\r\n",
      "  Downloading DateTime-5.2-py3-none-any.whl (52 kB)\r\n",
      "\u001b[2K     \u001b[90m━━━━━━━━━━━━━━━━━━━━━━━━━━━━━━━━━━━━━━━━\u001b[0m \u001b[32m52.2/52.2 kB\u001b[0m \u001b[31m2.1 MB/s\u001b[0m eta \u001b[36m0:00:00\u001b[0m\r\n",
      "\u001b[?25hCollecting zope.interface (from datetime)\r\n",
      "  Downloading zope.interface-6.0-cp310-cp310-manylinux_2_5_x86_64.manylinux1_x86_64.manylinux_2_17_x86_64.manylinux2014_x86_64.whl (246 kB)\r\n",
      "\u001b[2K     \u001b[90m━━━━━━━━━━━━━━━━━━━━━━━━━━━━━━━━━━━━━━━\u001b[0m \u001b[32m247.0/247.0 kB\u001b[0m \u001b[31m7.9 MB/s\u001b[0m eta \u001b[36m0:00:00\u001b[0m\r\n",
      "\u001b[?25hRequirement already satisfied: pytz in /opt/conda/lib/python3.10/site-packages (from datetime) (2023.3)\r\n",
      "Requirement already satisfied: setuptools in /opt/conda/lib/python3.10/site-packages (from zope.interface->datetime) (59.8.0)\r\n",
      "Installing collected packages: zope.interface, datetime\r\n",
      "Successfully installed datetime-5.2 zope.interface-6.0\r\n",
      "Note: you may need to restart the kernel to use updated packages.\n"
     ]
    }
   ],
   "source": [
    "pip install datetime"
   ]
  },
  {
   "cell_type": "code",
   "execution_count": 3,
   "id": "ef0b083f",
   "metadata": {
    "execution": {
     "iopub.execute_input": "2023-08-24T14:45:22.879221Z",
     "iopub.status.busy": "2023-08-24T14:45:22.878916Z",
     "iopub.status.idle": "2023-08-24T14:45:22.909666Z",
     "shell.execute_reply": "2023-08-24T14:45:22.908769Z"
    },
    "papermill": {
     "duration": 0.041837,
     "end_time": "2023-08-24T14:45:22.911896",
     "exception": false,
     "start_time": "2023-08-24T14:45:22.870059",
     "status": "completed"
    },
    "tags": []
   },
   "outputs": [],
   "source": [
    "import pandas as pd\n",
    "import numpy as np\n",
    "import datetime\n",
    "import yfinance as yf\n",
    "import matplotlib.pyplot as plt"
   ]
  },
  {
   "cell_type": "code",
   "execution_count": 4,
   "id": "9203e2a9",
   "metadata": {
    "execution": {
     "iopub.execute_input": "2023-08-24T14:45:22.928373Z",
     "iopub.status.busy": "2023-08-24T14:45:22.927808Z",
     "iopub.status.idle": "2023-08-24T14:45:22.933521Z",
     "shell.execute_reply": "2023-08-24T14:45:22.932525Z"
    },
    "papermill": {
     "duration": 0.016286,
     "end_time": "2023-08-24T14:45:22.935501",
     "exception": false,
     "start_time": "2023-08-24T14:45:22.919215",
     "status": "completed"
    },
    "tags": []
   },
   "outputs": [],
   "source": [
    "# Valid intervals: [1m, 2m, 5m, 15m, 30m, 60m, 90m, 1h, 1d, 5d, 1wk, 1mo, 3mo]\n",
    "\n",
    "NUM_DAYS = 12    # The number of days of historical data to retrieve\n",
    "INTERVAL = '2m'     # Sample rate of historical data\n",
    "symbol = 'LAURUSLABS.NS'      # Symbol of the desired stock\n",
    "end_date = datetime.date(2023, 8, 22)\n",
    "pred_date = end_date + datetime.timedelta(1)"
   ]
  },
  {
   "cell_type": "code",
   "execution_count": 5,
   "id": "2de349ec",
   "metadata": {
    "execution": {
     "iopub.execute_input": "2023-08-24T14:45:22.951913Z",
     "iopub.status.busy": "2023-08-24T14:45:22.951183Z",
     "iopub.status.idle": "2023-08-24T14:45:24.024633Z",
     "shell.execute_reply": "2023-08-24T14:45:24.023716Z"
    },
    "papermill": {
     "duration": 1.083873,
     "end_time": "2023-08-24T14:45:24.026901",
     "exception": false,
     "start_time": "2023-08-24T14:45:22.943028",
     "status": "completed"
    },
    "tags": []
   },
   "outputs": [
    {
     "name": "stdout",
     "output_type": "stream",
     "text": [
      "[*********************100%%**********************]  1 of 1 completed\n",
      "                                close\n",
      "Datetime                             \n",
      "2023-08-10 09:15:00+05:30  411.450012\n",
      "2023-08-10 09:17:00+05:30  411.600006\n",
      "2023-08-10 09:19:00+05:30  410.850006\n",
      "2023-08-10 09:21:00+05:30  410.350006\n",
      "2023-08-10 09:23:00+05:30  409.500000\n",
      "...                               ...\n",
      "2023-08-21 15:21:00+05:30  389.500000\n",
      "2023-08-21 15:23:00+05:30  389.149994\n",
      "2023-08-21 15:25:00+05:30  388.399994\n",
      "2023-08-21 15:27:00+05:30  388.399994\n",
      "2023-08-21 15:29:00+05:30  389.600006\n",
      "\n",
      "[1316 rows x 1 columns]\n",
      "(1316, 1)\n",
      "(1316, 1)\n"
     ]
    },
    {
     "data": {
      "text/plain": [
       "[<matplotlib.lines.Line2D at 0x7bdd72811de0>]"
      ]
     },
     "execution_count": 5,
     "metadata": {},
     "output_type": "execute_result"
    },
    {
     "data": {
      "image/png": "[encoded data removed]",
      "text/plain": [
       "<Figure size 640x480 with 1 Axes>"
      ]
     },
     "metadata": {},
     "output_type": "display_data"
    }
   ],
   "source": [
    "start = (end_date - datetime.timedelta(NUM_DAYS))\n",
    "end = end_date\n",
    "df = yf.download(symbol, start = start, end = end, interval = INTERVAL)\n",
    "df.rename(columns = { 'Close' : 'close', 'Open' : 'open', 'High' : 'high', 'Low' : 'low', 'Volume' : 'volume'}, inplace = True)\n",
    "df = df.iloc[:,3:4]\n",
    "train_dataset = df.values\n",
    "\n",
    "print(df)\n",
    "print(df.shape)\n",
    "print(train_dataset.shape)\n",
    "# df['close'].plot()\n",
    "tmp = df[-150:]\n",
    "plt.plot(df)\n"
   ]
  },
  {
   "cell_type": "code",
   "execution_count": 6,
   "id": "c2e4cb27",
   "metadata": {
    "execution": {
     "iopub.execute_input": "2023-08-24T14:45:24.045232Z",
     "iopub.status.busy": "2023-08-24T14:45:24.044371Z",
     "iopub.status.idle": "2023-08-24T14:45:24.627666Z",
     "shell.execute_reply": "2023-08-24T14:45:24.626619Z"
    },
    "papermill": {
     "duration": 0.594438,
     "end_time": "2023-08-24T14:45:24.629671",
     "exception": false,
     "start_time": "2023-08-24T14:45:24.035233",
     "status": "completed"
    },
    "tags": []
   },
   "outputs": [
    {
     "name": "stdout",
     "output_type": "stream",
     "text": [
      "[*********************100%%**********************]  1 of 1 completed\n",
      "                                close\n",
      "Datetime                             \n",
      "2023-08-23 09:15:00+05:30  394.450012\n",
      "2023-08-23 09:17:00+05:30  393.600006\n",
      "2023-08-23 09:19:00+05:30  392.000000\n",
      "2023-08-23 09:21:00+05:30  392.450012\n",
      "2023-08-23 09:23:00+05:30  392.600006\n",
      "...                               ...\n",
      "2023-08-23 15:21:00+05:30  395.450012\n",
      "2023-08-23 15:23:00+05:30  395.450012\n",
      "2023-08-23 15:25:00+05:30  395.299988\n",
      "2023-08-23 15:27:00+05:30  395.649994\n",
      "2023-08-23 15:29:00+05:30  395.450012\n",
      "\n",
      "[188 rows x 1 columns]\n",
      "(188, 1)\n"
     ]
    },
    {
     "data": {
      "text/plain": [
       "[<matplotlib.lines.Line2D at 0x7bdd7ff448b0>]"
      ]
     },
     "execution_count": 6,
     "metadata": {},
     "output_type": "execute_result"
    },
    {
     "data": {
      "image/png": "[encoded data removed]",
      "text/plain": [
       "<Figure size 640x480 with 1 Axes>"
      ]
     },
     "metadata": {},
     "output_type": "display_data"
    }
   ],
   "source": [
    "TEST_DAYS = 1\n",
    "test_start = (pred_date)\n",
    "test_end = (pred_date + datetime.timedelta(TEST_DAYS))\n",
    "test_df = yf.download(symbol, start = test_start, end = test_end, interval = INTERVAL)\n",
    "test_df.rename(columns = { 'Close' : 'close', 'Open' : 'open', 'High' : 'high', 'Low' : 'low', 'Volume' : 'volume'}, inplace = True)\n",
    "test_df = test_df.iloc[:,3:4]\n",
    "test_dataset = test_df.values\n",
    "\n",
    "print(test_df)\n",
    "print(test_df.shape)\n",
    "tmp1 = test_df[-150:]\n",
    "plt.plot(test_df)\n",
    "\n"
   ]
  },
  {
   "cell_type": "code",
   "execution_count": 7,
   "id": "b463eee3",
   "metadata": {
    "execution": {
     "iopub.execute_input": "2023-08-24T14:45:24.649890Z",
     "iopub.status.busy": "2023-08-24T14:45:24.649083Z",
     "iopub.status.idle": "2023-08-24T14:45:25.605248Z",
     "shell.execute_reply": "2023-08-24T14:45:25.603631Z"
    },
    "papermill": {
     "duration": 0.968527,
     "end_time": "2023-08-24T14:45:25.607571",
     "exception": false,
     "start_time": "2023-08-24T14:45:24.639044",
     "status": "completed"
    },
    "tags": []
   },
   "outputs": [
    {
     "name": "stderr",
     "output_type": "stream",
     "text": [
      "/opt/conda/lib/python3.10/site-packages/scipy/__init__.py:146: UserWarning: A NumPy version >=1.16.5 and <1.23.0 is required for this version of SciPy (detected version 1.23.5\n",
      "  warnings.warn(f\"A NumPy version >={np_minversion} and <{np_maxversion}\"\n"
     ]
    },
    {
     "name": "stdout",
     "output_type": "stream",
     "text": [
      "[[0.99530536]\n",
      " [1.        ]\n",
      " [0.97652583]\n",
      " ...\n",
      " [0.27386531]\n",
      " [0.27386531]\n",
      " [0.31142436]]\n"
     ]
    }
   ],
   "source": [
    "#Preprocessing the data\n",
    "from sklearn.preprocessing import MinMaxScaler\n",
    "sc = MinMaxScaler(feature_range = (0, 1))\n",
    "train_dataset_scaled = sc.fit_transform(train_dataset)\n",
    "print(train_dataset_scaled)"
   ]
  },
  {
   "cell_type": "code",
   "execution_count": 8,
   "id": "825b6c6b",
   "metadata": {
    "execution": {
     "iopub.execute_input": "2023-08-24T14:45:25.627446Z",
     "iopub.status.busy": "2023-08-24T14:45:25.627153Z",
     "iopub.status.idle": "2023-08-24T14:45:25.636528Z",
     "shell.execute_reply": "2023-08-24T14:45:25.635707Z"
    },
    "papermill": {
     "duration": 0.021596,
     "end_time": "2023-08-24T14:45:25.638567",
     "exception": false,
     "start_time": "2023-08-24T14:45:25.616971",
     "status": "completed"
    },
    "tags": []
   },
   "outputs": [],
   "source": [
    "#Creating a data structure with 120 timesteps and 1 output\n",
    "n = 120\n",
    "X_train = []\n",
    "y_train = []\n",
    "for i in range(n, train_dataset.shape[0]):\n",
    "    X_train.append(train_dataset_scaled[i-n:i, 0])\n",
    "    y_train.append(train_dataset_scaled[i, 0])\n",
    "X_train, y_train = np.array(X_train), np.array(y_train)"
   ]
  },
  {
   "cell_type": "code",
   "execution_count": 9,
   "id": "29b00b92",
   "metadata": {
    "execution": {
     "iopub.execute_input": "2023-08-24T14:45:25.658746Z",
     "iopub.status.busy": "2023-08-24T14:45:25.657805Z",
     "iopub.status.idle": "2023-08-24T14:45:25.664034Z",
     "shell.execute_reply": "2023-08-24T14:45:25.662916Z"
    },
    "papermill": {
     "duration": 0.018331,
     "end_time": "2023-08-24T14:45:25.666193",
     "exception": false,
     "start_time": "2023-08-24T14:45:25.647862",
     "status": "completed"
    },
    "tags": []
   },
   "outputs": [
    {
     "name": "stdout",
     "output_type": "stream",
     "text": [
      "[[0.99530536 1.         0.97652583 ... 0.55868542 0.55399078 0.56807471]\n",
      " [1.         0.97652583 0.96087638 ... 0.55399078 0.56807471 0.57120479]\n",
      " [0.97652583 0.96087638 0.93427213 ... 0.56807471 0.57120479 0.56651015]\n",
      " ...\n",
      " [0.13458581 0.12832565 0.13302029 ... 0.30203412 0.30829428 0.29733948]\n",
      " [0.12832565 0.13302029 0.1439751  ... 0.30829428 0.29733948 0.27386531]\n",
      " [0.13302029 0.1439751  0.15336438 ... 0.29733948 0.27386531 0.27386531]]\n"
     ]
    }
   ],
   "source": [
    "print(X_train)"
   ]
  },
  {
   "cell_type": "code",
   "execution_count": 10,
   "id": "9416522b",
   "metadata": {
    "execution": {
     "iopub.execute_input": "2023-08-24T14:45:25.686795Z",
     "iopub.status.busy": "2023-08-24T14:45:25.685995Z",
     "iopub.status.idle": "2023-08-24T14:45:25.690955Z",
     "shell.execute_reply": "2023-08-24T14:45:25.690091Z"
    },
    "papermill": {
     "duration": 0.017135,
     "end_time": "2023-08-24T14:45:25.692933",
     "exception": false,
     "start_time": "2023-08-24T14:45:25.675798",
     "status": "completed"
    },
    "tags": []
   },
   "outputs": [],
   "source": [
    "#Reshaping the input datas structure\n",
    "X_train = np.reshape(X_train, (X_train.shape[0], X_train.shape[1], 1))"
   ]
  },
  {
   "cell_type": "code",
   "execution_count": 11,
   "id": "eb415e85",
   "metadata": {
    "execution": {
     "iopub.execute_input": "2023-08-24T14:45:25.712873Z",
     "iopub.status.busy": "2023-08-24T14:45:25.712088Z",
     "iopub.status.idle": "2023-08-24T14:45:25.717283Z",
     "shell.execute_reply": "2023-08-24T14:45:25.716080Z"
    },
    "papermill": {
     "duration": 0.017243,
     "end_time": "2023-08-24T14:45:25.719313",
     "exception": false,
     "start_time": "2023-08-24T14:45:25.702070",
     "status": "completed"
    },
    "tags": []
   },
   "outputs": [
    {
     "name": "stdout",
     "output_type": "stream",
     "text": [
      "(1196, 120, 1)\n"
     ]
    }
   ],
   "source": [
    "print(X_train.shape)"
   ]
  },
  {
   "cell_type": "code",
   "execution_count": 12,
   "id": "ebb39751",
   "metadata": {
    "execution": {
     "iopub.execute_input": "2023-08-24T14:45:25.739270Z",
     "iopub.status.busy": "2023-08-24T14:45:25.738483Z",
     "iopub.status.idle": "2023-08-24T14:45:32.924144Z",
     "shell.execute_reply": "2023-08-24T14:45:32.923144Z"
    },
    "papermill": {
     "duration": 7.198109,
     "end_time": "2023-08-24T14:45:32.926530",
     "exception": false,
     "start_time": "2023-08-24T14:45:25.728421",
     "status": "completed"
    },
    "tags": []
   },
   "outputs": [
    {
     "name": "stderr",
     "output_type": "stream",
     "text": [
      "/opt/conda/lib/python3.10/site-packages/tensorflow_io/python/ops/__init__.py:98: UserWarning: unable to load libtensorflow_io_plugins.so: unable to open file: libtensorflow_io_plugins.so, from paths: ['/opt/conda/lib/python3.10/site-packages/tensorflow_io/python/ops/libtensorflow_io_plugins.so']\n",
      "caused by: ['/opt/conda/lib/python3.10/site-packages/tensorflow_io/python/ops/libtensorflow_io_plugins.so: undefined symbol: _ZN3tsl6StatusC1EN10tensorflow5error4CodeESt17basic_string_viewIcSt11char_traitsIcEENS_14SourceLocationE']\n",
      "  warnings.warn(f\"unable to load libtensorflow_io_plugins.so: {e}\")\n",
      "/opt/conda/lib/python3.10/site-packages/tensorflow_io/python/ops/__init__.py:104: UserWarning: file system plugins are not loaded: unable to open file: libtensorflow_io.so, from paths: ['/opt/conda/lib/python3.10/site-packages/tensorflow_io/python/ops/libtensorflow_io.so']\n",
      "caused by: ['/opt/conda/lib/python3.10/site-packages/tensorflow_io/python/ops/libtensorflow_io.so: undefined symbol: _ZTVN10tensorflow13GcsFileSystemE']\n",
      "  warnings.warn(f\"file system plugins are not loaded: {e}\")\n"
     ]
    }
   ],
   "source": [
    "#Importing the keras packages\n",
    "from keras.models import Sequential\n",
    "from keras.layers import Dense, LSTM, Dropout"
   ]
  },
  {
   "cell_type": "code",
   "execution_count": 13,
   "id": "a5cb4d68",
   "metadata": {
    "execution": {
     "iopub.execute_input": "2023-08-24T14:45:32.948544Z",
     "iopub.status.busy": "2023-08-24T14:45:32.946722Z",
     "iopub.status.idle": "2023-08-24T14:45:35.796633Z",
     "shell.execute_reply": "2023-08-24T14:45:35.795632Z"
    },
    "papermill": {
     "duration": 2.862879,
     "end_time": "2023-08-24T14:45:35.799102",
     "exception": false,
     "start_time": "2023-08-24T14:45:32.936223",
     "status": "completed"
    },
    "tags": []
   },
   "outputs": [],
   "source": [
    "#Initialising the regressor\n",
    "regressor = Sequential()"
   ]
  },
  {
   "cell_type": "code",
   "execution_count": 14,
   "id": "8651bc08",
   "metadata": {
    "execution": {
     "iopub.execute_input": "2023-08-24T14:45:35.819784Z",
     "iopub.status.busy": "2023-08-24T14:45:35.819446Z",
     "iopub.status.idle": "2023-08-24T14:45:36.912274Z",
     "shell.execute_reply": "2023-08-24T14:45:36.911277Z"
    },
    "papermill": {
     "duration": 1.105762,
     "end_time": "2023-08-24T14:45:36.914690",
     "exception": false,
     "start_time": "2023-08-24T14:45:35.808928",
     "status": "completed"
    },
    "tags": []
   },
   "outputs": [],
   "source": [
    "#Adding the first LSTM layer and some dropout regularisation layer\n",
    "regressor.add(LSTM(units = 150, return_sequences = True, input_shape = (X_train.shape[1], 1)))\n",
    "regressor.add(Dropout(0.2))\n",
    "#Layer 2\n",
    "regressor.add(LSTM(units = 150, return_sequences = True))\n",
    "regressor.add(Dropout(0.2))\n",
    "#Layer 3\n",
    "regressor.add(LSTM(units = 150, return_sequences = True))\n",
    "regressor.add(Dropout(0.2))\n",
    "#Layer 4\n",
    "regressor.add(LSTM(units = 150, return_sequences = False))\n",
    "regressor.add(Dropout(0.2))"
   ]
  },
  {
   "cell_type": "code",
   "execution_count": 15,
   "id": "77e0d634",
   "metadata": {
    "execution": {
     "iopub.execute_input": "2023-08-24T14:45:36.936457Z",
     "iopub.status.busy": "2023-08-24T14:45:36.934965Z",
     "iopub.status.idle": "2023-08-24T14:45:36.954595Z",
     "shell.execute_reply": "2023-08-24T14:45:36.953755Z"
    },
    "papermill": {
     "duration": 0.032356,
     "end_time": "2023-08-24T14:45:36.956756",
     "exception": false,
     "start_time": "2023-08-24T14:45:36.924400",
     "status": "completed"
    },
    "tags": []
   },
   "outputs": [],
   "source": [
    "#Output layer\n",
    "regressor.add(Dense(units = 1))"
   ]
  },
  {
   "cell_type": "code",
   "execution_count": 16,
   "id": "2616cc0a",
   "metadata": {
    "execution": {
     "iopub.execute_input": "2023-08-24T14:45:36.977535Z",
     "iopub.status.busy": "2023-08-24T14:45:36.976673Z",
     "iopub.status.idle": "2023-08-24T14:45:36.992908Z",
     "shell.execute_reply": "2023-08-24T14:45:36.992037Z"
    },
    "papermill": {
     "duration": 0.028649,
     "end_time": "2023-08-24T14:45:36.995021",
     "exception": false,
     "start_time": "2023-08-24T14:45:36.966372",
     "status": "completed"
    },
    "tags": []
   },
   "outputs": [],
   "source": [
    "#Compile the RNN\n",
    "regressor.compile(optimizer = 'adam', loss = 'mean_squared_error')"
   ]
  },
  {
   "cell_type": "code",
   "execution_count": 17,
   "id": "e5b35815",
   "metadata": {
    "execution": {
     "iopub.execute_input": "2023-08-24T14:45:37.014691Z",
     "iopub.status.busy": "2023-08-24T14:45:37.014417Z",
     "iopub.status.idle": "2023-08-24T14:48:04.484755Z",
     "shell.execute_reply": "2023-08-24T14:48:04.483755Z"
    },
    "papermill": {
     "duration": 147.647831,
     "end_time": "2023-08-24T14:48:04.652140",
     "exception": false,
     "start_time": "2023-08-24T14:45:37.004309",
     "status": "completed"
    },
    "tags": []
   },
   "outputs": [
    {
     "name": "stdout",
     "output_type": "stream",
     "text": [
      "Epoch 1/100\n",
      "38/38 [==============================] - 12s 28ms/step - loss: 0.0093\n",
      "Epoch 2/100\n",
      "38/38 [==============================] - 1s 27ms/step - loss: 0.0027\n",
      "Epoch 3/100\n",
      "38/38 [==============================] - 1s 27ms/step - loss: 0.0019\n",
      "Epoch 4/100\n",
      "38/38 [==============================] - 1s 27ms/step - loss: 0.0019\n",
      "Epoch 5/100\n",
      "38/38 [==============================] - 1s 27ms/step - loss: 0.0019\n",
      "Epoch 6/100\n",
      "38/38 [==============================] - 1s 27ms/step - loss: 0.0021\n",
      "Epoch 7/100\n",
      "38/38 [==============================] - 1s 27ms/step - loss: 0.0016\n",
      "Epoch 8/100\n",
      "38/38 [==============================] - 1s 27ms/step - loss: 0.0018\n",
      "Epoch 9/100\n",
      "38/38 [==============================] - 1s 29ms/step - loss: 0.0018\n",
      "Epoch 10/100\n",
      "38/38 [==============================] - 1s 26ms/step - loss: 0.0014\n",
      "Epoch 11/100\n",
      "38/38 [==============================] - 1s 27ms/step - loss: 0.0013\n",
      "Epoch 12/100\n",
      "38/38 [==============================] - 1s 27ms/step - loss: 0.0013\n",
      "Epoch 13/100\n",
      "38/38 [==============================] - 1s 27ms/step - loss: 0.0014\n",
      "Epoch 14/100\n",
      "38/38 [==============================] - 1s 27ms/step - loss: 0.0012\n",
      "Epoch 15/100\n",
      "38/38 [==============================] - 1s 27ms/step - loss: 0.0011\n",
      "Epoch 16/100\n",
      "38/38 [==============================] - 1s 27ms/step - loss: 0.0011\n",
      "Epoch 17/100\n",
      "38/38 [==============================] - 1s 27ms/step - loss: 0.0011\n",
      "Epoch 18/100\n",
      "38/38 [==============================] - 1s 26ms/step - loss: 0.0012\n",
      "Epoch 19/100\n",
      "38/38 [==============================] - 1s 29ms/step - loss: 9.8206e-04\n",
      "Epoch 20/100\n",
      "38/38 [==============================] - 1s 27ms/step - loss: 0.0012\n",
      "Epoch 21/100\n",
      "38/38 [==============================] - 1s 27ms/step - loss: 0.0010\n",
      "Epoch 22/100\n",
      "38/38 [==============================] - 1s 27ms/step - loss: 9.6586e-04\n",
      "Epoch 23/100\n",
      "38/38 [==============================] - 1s 27ms/step - loss: 9.7079e-04\n",
      "Epoch 24/100\n",
      "38/38 [==============================] - 1s 27ms/step - loss: 0.0011\n",
      "Epoch 25/100\n",
      "38/38 [==============================] - 1s 27ms/step - loss: 9.2749e-04\n",
      "Epoch 26/100\n",
      "38/38 [==============================] - 1s 27ms/step - loss: 9.1361e-04\n",
      "Epoch 27/100\n",
      "38/38 [==============================] - 1s 27ms/step - loss: 8.5213e-04\n",
      "Epoch 28/100\n",
      "38/38 [==============================] - 1s 36ms/step - loss: 8.9891e-04\n",
      "Epoch 29/100\n",
      "38/38 [==============================] - 1s 30ms/step - loss: 8.5067e-04\n",
      "Epoch 30/100\n",
      "38/38 [==============================] - 1s 27ms/step - loss: 9.3081e-04\n",
      "Epoch 31/100\n",
      "38/38 [==============================] - 1s 27ms/step - loss: 8.1300e-04\n",
      "Epoch 32/100\n",
      "38/38 [==============================] - 1s 27ms/step - loss: 8.2946e-04\n",
      "Epoch 33/100\n",
      "38/38 [==============================] - 1s 27ms/step - loss: 7.5686e-04\n",
      "Epoch 34/100\n",
      "38/38 [==============================] - 1s 27ms/step - loss: 7.7141e-04\n",
      "Epoch 35/100\n",
      "38/38 [==============================] - 1s 27ms/step - loss: 7.1278e-04\n",
      "Epoch 36/100\n",
      "38/38 [==============================] - 1s 27ms/step - loss: 8.7844e-04\n",
      "Epoch 37/100\n",
      "38/38 [==============================] - 1s 27ms/step - loss: 7.2071e-04\n",
      "Epoch 38/100\n",
      "38/38 [==============================] - 1s 28ms/step - loss: 8.0011e-04\n",
      "Epoch 39/100\n",
      "38/38 [==============================] - 1s 27ms/step - loss: 7.8538e-04\n",
      "Epoch 40/100\n",
      "38/38 [==============================] - 1s 27ms/step - loss: 6.8009e-04\n",
      "Epoch 41/100\n",
      "38/38 [==============================] - 1s 27ms/step - loss: 7.0752e-04\n",
      "Epoch 42/100\n",
      "38/38 [==============================] - 1s 27ms/step - loss: 0.0010\n",
      "Epoch 43/100\n",
      "38/38 [==============================] - 1s 26ms/step - loss: 8.0962e-04\n",
      "Epoch 44/100\n",
      "38/38 [==============================] - 1s 27ms/step - loss: 6.9271e-04\n",
      "Epoch 45/100\n",
      "38/38 [==============================] - 1s 27ms/step - loss: 6.4789e-04\n",
      "Epoch 46/100\n",
      "38/38 [==============================] - 1s 27ms/step - loss: 6.7328e-04\n",
      "Epoch 47/100\n",
      "38/38 [==============================] - 1s 27ms/step - loss: 7.3565e-04\n",
      "Epoch 48/100\n",
      "38/38 [==============================] - 1s 27ms/step - loss: 7.5754e-04\n",
      "Epoch 49/100\n",
      "38/38 [==============================] - 1s 27ms/step - loss: 6.5668e-04\n",
      "Epoch 50/100\n",
      "38/38 [==============================] - 1s 27ms/step - loss: 6.7827e-04\n",
      "Epoch 51/100\n",
      "38/38 [==============================] - 1s 27ms/step - loss: 6.4905e-04\n",
      "Epoch 52/100\n",
      "38/38 [==============================] - 1s 27ms/step - loss: 6.1121e-04\n",
      "Epoch 53/100\n",
      "38/38 [==============================] - 1s 27ms/step - loss: 6.5130e-04\n",
      "Epoch 54/100\n",
      "38/38 [==============================] - 1s 27ms/step - loss: 6.2389e-04\n",
      "Epoch 55/100\n",
      "38/38 [==============================] - 1s 27ms/step - loss: 5.8651e-04\n",
      "Epoch 56/100\n",
      "38/38 [==============================] - 1s 27ms/step - loss: 5.9412e-04\n",
      "Epoch 57/100\n",
      "38/38 [==============================] - 1s 29ms/step - loss: 5.7952e-04\n",
      "Epoch 58/100\n",
      "38/38 [==============================] - 1s 27ms/step - loss: 5.7322e-04\n",
      "Epoch 59/100\n",
      "38/38 [==============================] - 1s 34ms/step - loss: 5.6831e-04\n",
      "Epoch 60/100\n",
      "38/38 [==============================] - 1s 28ms/step - loss: 5.9662e-04\n",
      "Epoch 61/100\n",
      "38/38 [==============================] - 1s 27ms/step - loss: 5.7266e-04\n",
      "Epoch 62/100\n",
      "38/38 [==============================] - 1s 27ms/step - loss: 6.5628e-04\n",
      "Epoch 63/100\n",
      "38/38 [==============================] - 1s 27ms/step - loss: 5.7563e-04\n",
      "Epoch 64/100\n",
      "38/38 [==============================] - 1s 27ms/step - loss: 6.0256e-04\n",
      "Epoch 65/100\n",
      "38/38 [==============================] - 1s 27ms/step - loss: 6.3013e-04\n",
      "Epoch 66/100\n",
      "38/38 [==============================] - 1s 27ms/step - loss: 5.8800e-04\n",
      "Epoch 67/100\n",
      "38/38 [==============================] - 1s 27ms/step - loss: 6.8600e-04\n",
      "Epoch 68/100\n",
      "38/38 [==============================] - 1s 27ms/step - loss: 5.6854e-04\n",
      "Epoch 69/100\n",
      "38/38 [==============================] - 1s 27ms/step - loss: 6.6598e-04\n",
      "Epoch 70/100\n",
      "38/38 [==============================] - 1s 27ms/step - loss: 5.9715e-04\n",
      "Epoch 71/100\n",
      "38/38 [==============================] - 1s 27ms/step - loss: 6.1693e-04\n",
      "Epoch 72/100\n",
      "38/38 [==============================] - 1s 27ms/step - loss: 7.1468e-04\n",
      "Epoch 73/100\n",
      "38/38 [==============================] - 1s 26ms/step - loss: 5.8799e-04\n",
      "Epoch 74/100\n",
      "38/38 [==============================] - 1s 27ms/step - loss: 6.1523e-04\n",
      "Epoch 75/100\n",
      "38/38 [==============================] - 1s 27ms/step - loss: 5.6618e-04\n",
      "Epoch 76/100\n",
      "38/38 [==============================] - 1s 28ms/step - loss: 6.2955e-04\n",
      "Epoch 77/100\n",
      "38/38 [==============================] - 1s 28ms/step - loss: 5.6789e-04\n",
      "Epoch 78/100\n",
      "38/38 [==============================] - 1s 26ms/step - loss: 6.0463e-04\n",
      "Epoch 79/100\n",
      "38/38 [==============================] - 1s 27ms/step - loss: 5.3899e-04\n",
      "Epoch 80/100\n",
      "38/38 [==============================] - 1s 27ms/step - loss: 6.0115e-04\n",
      "Epoch 81/100\n",
      "38/38 [==============================] - 1s 27ms/step - loss: 5.1343e-04\n",
      "Epoch 82/100\n",
      "38/38 [==============================] - 1s 27ms/step - loss: 6.7609e-04\n",
      "Epoch 83/100\n",
      "38/38 [==============================] - 1s 27ms/step - loss: 5.5405e-04\n",
      "Epoch 84/100\n",
      "38/38 [==============================] - 1s 27ms/step - loss: 5.2298e-04\n",
      "Epoch 85/100\n",
      "38/38 [==============================] - 1s 27ms/step - loss: 5.1237e-04\n",
      "Epoch 86/100\n",
      "38/38 [==============================] - 1s 28ms/step - loss: 5.8108e-04\n",
      "Epoch 87/100\n",
      "38/38 [==============================] - 1s 27ms/step - loss: 5.2660e-04\n",
      "Epoch 88/100\n",
      "38/38 [==============================] - 1s 27ms/step - loss: 5.1104e-04\n",
      "Epoch 89/100\n",
      "38/38 [==============================] - 1s 30ms/step - loss: 5.4196e-04\n",
      "Epoch 90/100\n",
      "38/38 [==============================] - 1s 33ms/step - loss: 5.7934e-04\n",
      "Epoch 91/100\n",
      "38/38 [==============================] - 1s 27ms/step - loss: 5.5499e-04\n",
      "Epoch 92/100\n",
      "38/38 [==============================] - 1s 27ms/step - loss: 5.1674e-04\n",
      "Epoch 93/100\n",
      "38/38 [==============================] - 1s 27ms/step - loss: 5.9390e-04\n",
      "Epoch 94/100\n",
      "38/38 [==============================] - 1s 27ms/step - loss: 5.4396e-04\n",
      "Epoch 95/100\n",
      "38/38 [==============================] - 1s 28ms/step - loss: 5.3449e-04\n",
      "Epoch 96/100\n",
      "38/38 [==============================] - 1s 27ms/step - loss: 5.3492e-04\n",
      "Epoch 97/100\n",
      "38/38 [==============================] - 1s 27ms/step - loss: 4.6884e-04\n",
      "Epoch 98/100\n",
      "38/38 [==============================] - 1s 27ms/step - loss: 5.2250e-04\n",
      "Epoch 99/100\n",
      "38/38 [==============================] - 1s 27ms/step - loss: 5.5071e-04\n",
      "Epoch 100/100\n",
      "38/38 [==============================] - 1s 27ms/step - loss: 6.1855e-04\n"
     ]
    },
    {
     "data": {
      "text/plain": [
       "<keras.callbacks.History at 0x7bdcc1507850>"
      ]
     },
     "execution_count": 17,
     "metadata": {},
     "output_type": "execute_result"
    }
   ],
   "source": [
    "regressor.fit(X_train, y_train, epochs = 100, batch_size = 32)"
   ]
  },
  {
   "cell_type": "code",
   "execution_count": 18,
   "id": "5505cc20",
   "metadata": {
    "execution": {
     "iopub.execute_input": "2023-08-24T14:48:04.984338Z",
     "iopub.status.busy": "2023-08-24T14:48:04.983981Z",
     "iopub.status.idle": "2023-08-24T14:48:04.992227Z",
     "shell.execute_reply": "2023-08-24T14:48:04.991170Z"
    },
    "papermill": {
     "duration": 0.179107,
     "end_time": "2023-08-24T14:48:04.995936",
     "exception": false,
     "start_time": "2023-08-24T14:48:04.816829",
     "status": "completed"
    },
    "tags": []
   },
   "outputs": [
    {
     "name": "stdout",
     "output_type": "stream",
     "text": [
      "(308, 1)\n",
      "188\n"
     ]
    }
   ],
   "source": [
    "#Getting the total dataset\n",
    "total_dataset = pd.concat((df['close'], test_df['close']), axis = 0)\n",
    "inputs = total_dataset[len(total_dataset)-len(test_df)-n:].values\n",
    "inputs = inputs.reshape(-1,1)\n",
    "inputs = sc.transform(inputs)\n",
    "print(inputs.shape)\n",
    "print(len(test_df))"
   ]
  },
  {
   "cell_type": "code",
   "execution_count": 19,
   "id": "98cf86ca",
   "metadata": {
    "execution": {
     "iopub.execute_input": "2023-08-24T14:48:05.332289Z",
     "iopub.status.busy": "2023-08-24T14:48:05.331181Z",
     "iopub.status.idle": "2023-08-24T14:48:07.150141Z",
     "shell.execute_reply": "2023-08-24T14:48:07.149149Z"
    },
    "papermill": {
     "duration": 1.988159,
     "end_time": "2023-08-24T14:48:07.152461",
     "exception": false,
     "start_time": "2023-08-24T14:48:05.164302",
     "status": "completed"
    },
    "tags": []
   },
   "outputs": [
    {
     "name": "stdout",
     "output_type": "stream",
     "text": [
      "6/6 [==============================] - 2s 14ms/step\n"
     ]
    }
   ],
   "source": [
    "#Creating the data structure\n",
    "X_test = []\n",
    "for i in range(n,n+len(test_df)):\n",
    "    X_test.append(inputs[i-n:i, 0])\n",
    "    \n",
    "X_test = np.array(X_test)\n",
    "# print(X_test.shape)\n",
    "X_test = np.reshape(X_test, (X_test.shape[0], X_test.shape[1], 1))\n",
    "predicted_stock_price = regressor.predict(X_test)\n",
    "predicted_stock_price = sc.inverse_transform(predicted_stock_price)"
   ]
  },
  {
   "cell_type": "code",
   "execution_count": 20,
   "id": "aba1bd2e",
   "metadata": {
    "execution": {
     "iopub.execute_input": "2023-08-24T14:48:07.537204Z",
     "iopub.status.busy": "2023-08-24T14:48:07.536080Z",
     "iopub.status.idle": "2023-08-24T14:48:07.824821Z",
     "shell.execute_reply": "2023-08-24T14:48:07.823748Z"
    },
    "papermill": {
     "duration": 0.462547,
     "end_time": "2023-08-24T14:48:07.827176",
     "exception": false,
     "start_time": "2023-08-24T14:48:07.364629",
     "status": "completed"
    },
    "tags": []
   },
   "outputs": [
    {
     "data": {
      "image/png": "[encoded data removed]",
      "text/plain": [
       "<Figure size 640x480 with 1 Axes>"
      ]
     },
     "metadata": {},
     "output_type": "display_data"
    }
   ],
   "source": [
    "#Plotting\n",
    "plt.plot(test_dataset, color = 'red', label = 'Real Stock Price')\n",
    "plt.plot(predicted_stock_price, color = 'blue', label = 'Predicted Stock Price')\n",
    "plt.title('Stock Price Prediction')\n",
    "plt.legend()\n",
    "plt.show()"
   ]
  },
  {
   "cell_type": "code",
   "execution_count": 21,
   "id": "e5441045",
   "metadata": {
    "execution": {
     "iopub.execute_input": "2023-08-24T14:48:08.207536Z",
     "iopub.status.busy": "2023-08-24T14:48:08.207156Z",
     "iopub.status.idle": "2023-08-24T14:48:08.213846Z",
     "shell.execute_reply": "2023-08-24T14:48:08.212763Z"
    },
    "papermill": {
     "duration": 0.198247,
     "end_time": "2023-08-24T14:48:08.216426",
     "exception": false,
     "start_time": "2023-08-24T14:48:08.018179",
     "status": "completed"
    },
    "tags": []
   },
   "outputs": [
    {
     "name": "stdout",
     "output_type": "stream",
     "text": [
      "[0.53908877]\n"
     ]
    }
   ],
   "source": [
    "mse = ((test_dataset - predicted_stock_price)**2).mean(axis=0)\n",
    "print(mse)"
   ]
  },
  {
   "cell_type": "code",
   "execution_count": null,
   "id": "f694ec1c",
   "metadata": {
    "papermill": {
     "duration": 0.178837,
     "end_time": "2023-08-24T14:48:08.581968",
     "exception": false,
     "start_time": "2023-08-24T14:48:08.403131",
     "status": "completed"
    },
    "tags": []
   },
   "outputs": [],
   "source": []
  },
  {
   "cell_type": "code",
   "execution_count": null,
   "id": "a0685871",
   "metadata": {
    "papermill": {
     "duration": 0.17023,
     "end_time": "2023-08-24T14:48:08.929962",
     "exception": false,
     "start_time": "2023-08-24T14:48:08.759732",
     "status": "completed"
    },
    "tags": []
   },
   "outputs": [],
   "source": []
  }
 ],
 "metadata": {
  "kernelspec": {
   "display_name": "Python 3",
   "language": "python",
   "name": "python3"
  },
  "language_info": {
   "codemirror_mode": {
    "name": "ipython",
    "version": 3
   },
   "file_extension": ".py",
   "mimetype": "text/x-python",
   "name": "python",
   "nbconvert_exporter": "python",
   "pygments_lexer": "ipython3",
   "version": "3.10.12"
  },
  "papermill": {
   "default_parameters": {},
   "duration": 203.800518,
   "end_time": "2023-08-24T14:48:12.103066",
   "environment_variables": {},
   "exception": null,
   "input_path": "__notebook__.ipynb",
   "output_path": "__notebook__.ipynb",
   "parameters": {},
   "start_time": "2023-08-24T14:44:48.302548",
   "version": "2.4.0"
  }
 },
 "nbformat": 4,
 "nbformat_minor": 5
}
